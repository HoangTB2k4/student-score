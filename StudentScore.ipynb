{
 "cells": [
  {
   "cell_type": "code",
   "execution_count": 11,
   "id": "bb38058c",
   "metadata": {},
   "outputs": [],
   "source": [
    "import pandas as pd\n",
    "from ydata_profiling import ProfileReport\n",
    "from sklearn.model_selection import train_test_split\n",
    "from sklearn.pipeline import Pipeline\n",
    "from sklearn.preprocessing import OneHotEncoder, StandardScaler, OrdinalEncoder\n",
    "from sklearn.compose import ColumnTransformer\n",
    "from sklearn.impute import SimpleImputer\n",
    "from sklearn.linear_model import LinearRegression\n",
    "from sklearn.metrics import mean_absolute_error, mean_squared_error, r2_score"
   ]
  },
  {
   "cell_type": "code",
   "execution_count": 3,
   "id": "33f8d082",
   "metadata": {},
   "outputs": [
    {
     "data": {
      "application/vnd.microsoft.datawrangler.viewer.v0+json": {
       "columns": [
        {
         "name": "index",
         "rawType": "int64",
         "type": "integer"
        },
        {
         "name": "gender",
         "rawType": "object",
         "type": "string"
        },
        {
         "name": "race/ethnicity",
         "rawType": "object",
         "type": "string"
        },
        {
         "name": "parental level of education",
         "rawType": "object",
         "type": "string"
        },
        {
         "name": "lunch",
         "rawType": "object",
         "type": "string"
        },
        {
         "name": "test preparation course",
         "rawType": "object",
         "type": "string"
        },
        {
         "name": "math score",
         "rawType": "int64",
         "type": "integer"
        },
        {
         "name": "reading score",
         "rawType": "int64",
         "type": "integer"
        },
        {
         "name": "writing score",
         "rawType": "int64",
         "type": "integer"
        }
       ],
       "ref": "a50a2f77-8096-450d-96b1-546070070569",
       "rows": [
        [
         "0",
         "female",
         "group B",
         "bachelor's degree",
         "standard",
         "none",
         "72",
         "72",
         "74"
        ],
        [
         "1",
         "female",
         "group C",
         "some college",
         "standard",
         "completed",
         "69",
         "90",
         "88"
        ],
        [
         "2",
         "female",
         "group B",
         "master's degree",
         "standard",
         "none",
         "90",
         "95",
         "93"
        ],
        [
         "3",
         "male",
         "group A",
         "associate's degree",
         "free/reduced",
         "none",
         "47",
         "57",
         "44"
        ],
        [
         "4",
         "male",
         "group C",
         "some college",
         "standard",
         "none",
         "76",
         "78",
         "75"
        ],
        [
         "5",
         "female",
         "group B",
         "associate's degree",
         "standard",
         "none",
         "71",
         "83",
         "78"
        ],
        [
         "6",
         "female",
         "group B",
         "some college",
         "standard",
         "completed",
         "88",
         "95",
         "92"
        ],
        [
         "7",
         "male",
         "group B",
         "some college",
         "free/reduced",
         "none",
         "40",
         "43",
         "39"
        ],
        [
         "8",
         "male",
         "group D",
         "high school",
         "free/reduced",
         "completed",
         "64",
         "64",
         "67"
        ],
        [
         "9",
         "female",
         "group B",
         "high school",
         "free/reduced",
         "none",
         "38",
         "60",
         "50"
        ],
        [
         "10",
         "male",
         "group C",
         "associate's degree",
         "standard",
         "none",
         "58",
         "54",
         "52"
        ],
        [
         "11",
         "male",
         "group D",
         "associate's degree",
         "standard",
         "none",
         "40",
         "52",
         "43"
        ],
        [
         "12",
         "female",
         "group B",
         "high school",
         "standard",
         "none",
         "65",
         "81",
         "73"
        ],
        [
         "13",
         "male",
         "group A",
         "some college",
         "standard",
         "completed",
         "78",
         "72",
         "70"
        ],
        [
         "14",
         "female",
         "group A",
         "master's degree",
         "standard",
         "none",
         "50",
         "53",
         "58"
        ],
        [
         "15",
         "female",
         "group C",
         "some high school",
         "standard",
         "none",
         "69",
         "75",
         "78"
        ],
        [
         "16",
         "male",
         "group C",
         "high school",
         "standard",
         "none",
         "88",
         "89",
         "86"
        ],
        [
         "17",
         "female",
         "group B",
         "some high school",
         "free/reduced",
         "none",
         "18",
         "32",
         "28"
        ],
        [
         "18",
         "male",
         "group C",
         "master's degree",
         "free/reduced",
         "completed",
         "46",
         "42",
         "46"
        ],
        [
         "19",
         "female",
         "group C",
         "associate's degree",
         "free/reduced",
         "none",
         "54",
         "58",
         "61"
        ],
        [
         "20",
         "male",
         "group D",
         "high school",
         "standard",
         "none",
         "66",
         "69",
         "63"
        ],
        [
         "21",
         "female",
         "group B",
         "some college",
         "free/reduced",
         "completed",
         "65",
         "75",
         "70"
        ],
        [
         "22",
         "male",
         "group D",
         "some college",
         "standard",
         "none",
         "44",
         "54",
         "53"
        ],
        [
         "23",
         "female",
         "group C",
         "some high school",
         "standard",
         "none",
         "69",
         "73",
         "73"
        ],
        [
         "24",
         "male",
         "group D",
         "bachelor's degree",
         "free/reduced",
         "completed",
         "74",
         "71",
         "80"
        ],
        [
         "25",
         "male",
         "group A",
         "master's degree",
         "free/reduced",
         "none",
         "73",
         "74",
         "72"
        ],
        [
         "26",
         "male",
         "group B",
         "some college",
         "standard",
         "none",
         "69",
         "54",
         "55"
        ],
        [
         "27",
         "female",
         "group C",
         "bachelor's degree",
         "standard",
         "none",
         "67",
         "69",
         "75"
        ],
        [
         "28",
         "male",
         "group C",
         "high school",
         "standard",
         "none",
         "70",
         "70",
         "65"
        ],
        [
         "29",
         "female",
         "group D",
         "master's degree",
         "standard",
         "none",
         "62",
         "70",
         "75"
        ],
        [
         "30",
         "female",
         "group D",
         "some college",
         "standard",
         "none",
         "69",
         "74",
         "74"
        ],
        [
         "31",
         "female",
         "group B",
         "some college",
         "standard",
         "none",
         "63",
         "65",
         "61"
        ],
        [
         "32",
         "female",
         "group E",
         "master's degree",
         "free/reduced",
         "none",
         "56",
         "72",
         "65"
        ],
        [
         "33",
         "male",
         "group D",
         "some college",
         "standard",
         "none",
         "40",
         "42",
         "38"
        ],
        [
         "34",
         "male",
         "group E",
         "some college",
         "standard",
         "none",
         "97",
         "87",
         "82"
        ],
        [
         "35",
         "male",
         "group E",
         "associate's degree",
         "standard",
         "completed",
         "81",
         "81",
         "79"
        ],
        [
         "36",
         "female",
         "group D",
         "associate's degree",
         "standard",
         "none",
         "74",
         "81",
         "83"
        ],
        [
         "37",
         "female",
         "group D",
         "some high school",
         "free/reduced",
         "none",
         "50",
         "64",
         "59"
        ],
        [
         "38",
         "female",
         "group D",
         "associate's degree",
         "free/reduced",
         "completed",
         "75",
         "90",
         "88"
        ],
        [
         "39",
         "male",
         "group B",
         "associate's degree",
         "free/reduced",
         "none",
         "57",
         "56",
         "57"
        ],
        [
         "40",
         "male",
         "group C",
         "associate's degree",
         "free/reduced",
         "none",
         "55",
         "61",
         "54"
        ],
        [
         "41",
         "female",
         "group C",
         "associate's degree",
         "standard",
         "none",
         "58",
         "73",
         "68"
        ],
        [
         "42",
         "female",
         "group B",
         "associate's degree",
         "standard",
         "none",
         "53",
         "58",
         "65"
        ],
        [
         "43",
         "male",
         "group B",
         "some college",
         "free/reduced",
         "completed",
         "59",
         "65",
         "66"
        ],
        [
         "44",
         "female",
         "group E",
         "associate's degree",
         "free/reduced",
         "none",
         "50",
         "56",
         "54"
        ],
        [
         "45",
         "male",
         "group B",
         "associate's degree",
         "standard",
         "none",
         "65",
         "54",
         "57"
        ],
        [
         "46",
         "female",
         "group A",
         "associate's degree",
         "standard",
         "completed",
         "55",
         "65",
         "62"
        ],
        [
         "47",
         "female",
         "group C",
         "high school",
         "standard",
         "none",
         "66",
         "71",
         "76"
        ],
        [
         "48",
         "female",
         "group D",
         "associate's degree",
         "free/reduced",
         "completed",
         "57",
         "74",
         "76"
        ],
        [
         "49",
         "male",
         "group C",
         "high school",
         "standard",
         "completed",
         "82",
         "84",
         "82"
        ]
       ],
       "shape": {
        "columns": 8,
        "rows": 1000
       }
      },
      "text/html": [
       "<div>\n",
       "<style scoped>\n",
       "    .dataframe tbody tr th:only-of-type {\n",
       "        vertical-align: middle;\n",
       "    }\n",
       "\n",
       "    .dataframe tbody tr th {\n",
       "        vertical-align: top;\n",
       "    }\n",
       "\n",
       "    .dataframe thead th {\n",
       "        text-align: right;\n",
       "    }\n",
       "</style>\n",
       "<table border=\"1\" class=\"dataframe\">\n",
       "  <thead>\n",
       "    <tr style=\"text-align: right;\">\n",
       "      <th></th>\n",
       "      <th>gender</th>\n",
       "      <th>race/ethnicity</th>\n",
       "      <th>parental level of education</th>\n",
       "      <th>lunch</th>\n",
       "      <th>test preparation course</th>\n",
       "      <th>math score</th>\n",
       "      <th>reading score</th>\n",
       "      <th>writing score</th>\n",
       "    </tr>\n",
       "  </thead>\n",
       "  <tbody>\n",
       "    <tr>\n",
       "      <th>0</th>\n",
       "      <td>female</td>\n",
       "      <td>group B</td>\n",
       "      <td>bachelor's degree</td>\n",
       "      <td>standard</td>\n",
       "      <td>none</td>\n",
       "      <td>72</td>\n",
       "      <td>72</td>\n",
       "      <td>74</td>\n",
       "    </tr>\n",
       "    <tr>\n",
       "      <th>1</th>\n",
       "      <td>female</td>\n",
       "      <td>group C</td>\n",
       "      <td>some college</td>\n",
       "      <td>standard</td>\n",
       "      <td>completed</td>\n",
       "      <td>69</td>\n",
       "      <td>90</td>\n",
       "      <td>88</td>\n",
       "    </tr>\n",
       "    <tr>\n",
       "      <th>2</th>\n",
       "      <td>female</td>\n",
       "      <td>group B</td>\n",
       "      <td>master's degree</td>\n",
       "      <td>standard</td>\n",
       "      <td>none</td>\n",
       "      <td>90</td>\n",
       "      <td>95</td>\n",
       "      <td>93</td>\n",
       "    </tr>\n",
       "    <tr>\n",
       "      <th>3</th>\n",
       "      <td>male</td>\n",
       "      <td>group A</td>\n",
       "      <td>associate's degree</td>\n",
       "      <td>free/reduced</td>\n",
       "      <td>none</td>\n",
       "      <td>47</td>\n",
       "      <td>57</td>\n",
       "      <td>44</td>\n",
       "    </tr>\n",
       "    <tr>\n",
       "      <th>4</th>\n",
       "      <td>male</td>\n",
       "      <td>group C</td>\n",
       "      <td>some college</td>\n",
       "      <td>standard</td>\n",
       "      <td>none</td>\n",
       "      <td>76</td>\n",
       "      <td>78</td>\n",
       "      <td>75</td>\n",
       "    </tr>\n",
       "    <tr>\n",
       "      <th>...</th>\n",
       "      <td>...</td>\n",
       "      <td>...</td>\n",
       "      <td>...</td>\n",
       "      <td>...</td>\n",
       "      <td>...</td>\n",
       "      <td>...</td>\n",
       "      <td>...</td>\n",
       "      <td>...</td>\n",
       "    </tr>\n",
       "    <tr>\n",
       "      <th>995</th>\n",
       "      <td>female</td>\n",
       "      <td>group E</td>\n",
       "      <td>master's degree</td>\n",
       "      <td>standard</td>\n",
       "      <td>completed</td>\n",
       "      <td>88</td>\n",
       "      <td>99</td>\n",
       "      <td>95</td>\n",
       "    </tr>\n",
       "    <tr>\n",
       "      <th>996</th>\n",
       "      <td>male</td>\n",
       "      <td>group C</td>\n",
       "      <td>high school</td>\n",
       "      <td>free/reduced</td>\n",
       "      <td>none</td>\n",
       "      <td>62</td>\n",
       "      <td>55</td>\n",
       "      <td>55</td>\n",
       "    </tr>\n",
       "    <tr>\n",
       "      <th>997</th>\n",
       "      <td>female</td>\n",
       "      <td>group C</td>\n",
       "      <td>high school</td>\n",
       "      <td>free/reduced</td>\n",
       "      <td>completed</td>\n",
       "      <td>59</td>\n",
       "      <td>71</td>\n",
       "      <td>65</td>\n",
       "    </tr>\n",
       "    <tr>\n",
       "      <th>998</th>\n",
       "      <td>female</td>\n",
       "      <td>group D</td>\n",
       "      <td>some college</td>\n",
       "      <td>standard</td>\n",
       "      <td>completed</td>\n",
       "      <td>68</td>\n",
       "      <td>78</td>\n",
       "      <td>77</td>\n",
       "    </tr>\n",
       "    <tr>\n",
       "      <th>999</th>\n",
       "      <td>female</td>\n",
       "      <td>group D</td>\n",
       "      <td>some college</td>\n",
       "      <td>free/reduced</td>\n",
       "      <td>none</td>\n",
       "      <td>77</td>\n",
       "      <td>86</td>\n",
       "      <td>86</td>\n",
       "    </tr>\n",
       "  </tbody>\n",
       "</table>\n",
       "<p>1000 rows × 8 columns</p>\n",
       "</div>"
      ],
      "text/plain": [
       "     gender race/ethnicity parental level of education         lunch  \\\n",
       "0    female        group B           bachelor's degree      standard   \n",
       "1    female        group C                some college      standard   \n",
       "2    female        group B             master's degree      standard   \n",
       "3      male        group A          associate's degree  free/reduced   \n",
       "4      male        group C                some college      standard   \n",
       "..      ...            ...                         ...           ...   \n",
       "995  female        group E             master's degree      standard   \n",
       "996    male        group C                 high school  free/reduced   \n",
       "997  female        group C                 high school  free/reduced   \n",
       "998  female        group D                some college      standard   \n",
       "999  female        group D                some college  free/reduced   \n",
       "\n",
       "    test preparation course  math score  reading score  writing score  \n",
       "0                      none          72             72             74  \n",
       "1                 completed          69             90             88  \n",
       "2                      none          90             95             93  \n",
       "3                      none          47             57             44  \n",
       "4                      none          76             78             75  \n",
       "..                      ...         ...            ...            ...  \n",
       "995               completed          88             99             95  \n",
       "996                    none          62             55             55  \n",
       "997               completed          59             71             65  \n",
       "998               completed          68             78             77  \n",
       "999                    none          77             86             86  \n",
       "\n",
       "[1000 rows x 8 columns]"
      ]
     },
     "execution_count": 3,
     "metadata": {},
     "output_type": "execute_result"
    }
   ],
   "source": [
    "data = pd.read_csv(\"StudentScore.xls\")\n",
    "data"
   ]
  },
  {
   "cell_type": "code",
   "execution_count": 5,
   "id": "fda27275",
   "metadata": {},
   "outputs": [
    {
     "data": {
      "application/vnd.jupyter.widget-view+json": {
       "model_id": "faad2040f1564eef9b855731a8346c72",
       "version_major": 2,
       "version_minor": 0
      },
      "text/plain": [
       "Summarize dataset:   0%|          | 0/5 [00:00<?, ?it/s]"
      ]
     },
     "metadata": {},
     "output_type": "display_data"
    },
    {
     "name": "stderr",
     "output_type": "stream",
     "text": [
      "100%|██████████| 8/8 [00:00<?, ?it/s]\n"
     ]
    },
    {
     "data": {
      "application/vnd.jupyter.widget-view+json": {
       "model_id": "11f27277b8d94b5b84782d6e99784f76",
       "version_major": 2,
       "version_minor": 0
      },
      "text/plain": [
       "Generate report structure:   0%|          | 0/1 [00:00<?, ?it/s]"
      ]
     },
     "metadata": {},
     "output_type": "display_data"
    },
    {
     "data": {
      "application/vnd.jupyter.widget-view+json": {
       "model_id": "93f966d284214de8a3fc0b4a655eda98",
       "version_major": 2,
       "version_minor": 0
      },
      "text/plain": [
       "Render HTML:   0%|          | 0/1 [00:00<?, ?it/s]"
      ]
     },
     "metadata": {},
     "output_type": "display_data"
    },
    {
     "data": {
      "application/vnd.jupyter.widget-view+json": {
       "model_id": "09b910c7c2bc472f98714d274cfc1de6",
       "version_major": 2,
       "version_minor": 0
      },
      "text/plain": [
       "Export report to file:   0%|          | 0/1 [00:00<?, ?it/s]"
      ]
     },
     "metadata": {},
     "output_type": "display_data"
    }
   ],
   "source": [
    "profile = ProfileReport(data, title=\"Student Score report\", explorative=True)\n",
    "profile.to_file(\"student_score_statistics.html\")"
   ]
  },
  {
   "cell_type": "code",
   "execution_count": 8,
   "id": "53e62b16",
   "metadata": {},
   "outputs": [],
   "source": [
    "target = \"writing score\"\n",
    "x = data.drop(target, axis=1)\n",
    "y = data[target]"
   ]
  },
  {
   "cell_type": "code",
   "execution_count": 10,
   "id": "d5df4715",
   "metadata": {},
   "outputs": [],
   "source": [
    "x_train, x_test, y_train, y_test = train_test_split(x, y, test_size=0.2, random_state=42)"
   ]
  },
  {
   "cell_type": "code",
   "execution_count": 14,
   "id": "3ffab154",
   "metadata": {},
   "outputs": [],
   "source": [
    "num_tran = Pipeline(steps=[\n",
    "    (\"impute\", SimpleImputer(strategy=\"median\")),\n",
    "    (\"scale\", StandardScaler())\n",
    "])\n",
    "\n",
    "nom_tran = Pipeline(steps=[\n",
    "    (\"impute\",SimpleImputer(strategy=\"most_frequent\")),\n",
    "    (\"onehot\", OneHotEncoder(sparse_output=False))\n",
    "])\n",
    "\n",
    "gender_values = data[\"gender\"].unique()\n",
    "edu_values = ['some high school', 'high school', 'some college', \"associate's degree\", \"bachelor's degree\",\"master's degree\"]\n",
    "lunch_values = data[\"lunch\"].unique()\n",
    "test_values = data[\"test preparation course\"].unique()\n",
    "\n",
    "\n",
    "ord_tran = Pipeline(steps=[\n",
    "    (\"impute\", SimpleImputer(strategy=\"most_frequent\")),\n",
    "    (\"ordinal\", OrdinalEncoder(categories=[gender_values, edu_values, lunch_values, test_values]))\n",
    "])\n",
    "\n",
    "preprocessor = ColumnTransformer(transformers=[\n",
    "    (\"num\", num_tran, [\"reading score\",\"math score\"] ),\n",
    "    (\"nom\", nom_tran,[\"race/ethnicity\"]),\n",
    "    (\"ord\", ord_tran,[\"gender\",\"parental level of education\",\"lunch\",\"test preparation course\"])\n",
    "])"
   ]
  },
  {
   "cell_type": "code",
   "execution_count": 15,
   "id": "8595492c",
   "metadata": {},
   "outputs": [],
   "source": [
    "re = Pipeline(steps=[\n",
    "    (\"preprocessor\", preprocessor),\n",
    "    (\"model\", LinearRegression())\n",
    "])\n",
    "\n",
    "re.fit(x_train, y_train)\n",
    "y_predict = re.predict(x_test)"
   ]
  },
  {
   "cell_type": "code",
   "execution_count": 16,
   "id": "39e91cf0",
   "metadata": {},
   "outputs": [
    {
     "name": "stdout",
     "output_type": "stream",
     "text": [
      "MAE: 3.2039447691582152\n",
      "MSE: 14.980822041816763\n",
      "R2: 0.9378432907399291\n"
     ]
    }
   ],
   "source": [
    "MAE = mean_absolute_error(y_test, y_predict)\n",
    "MSE = mean_squared_error(y_test, y_predict)\n",
    "R2 = r2_score(y_test, y_predict)\n",
    "print(\"MAE:\", MAE)\n",
    "print(\"MSE:\", MSE)\n",
    "print(\"R2:\", R2)"
   ]
  }
 ],
 "metadata": {
  "kernelspec": {
   "display_name": "Python 3",
   "language": "python",
   "name": "python3"
  },
  "language_info": {
   "codemirror_mode": {
    "name": "ipython",
    "version": 3
   },
   "file_extension": ".py",
   "mimetype": "text/x-python",
   "name": "python",
   "nbconvert_exporter": "python",
   "pygments_lexer": "ipython3",
   "version": "3.12.3"
  }
 },
 "nbformat": 4,
 "nbformat_minor": 5
}
